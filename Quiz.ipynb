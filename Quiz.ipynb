{
  "nbformat": 4,
  "nbformat_minor": 0,
  "metadata": {
    "colab": {
      "provenance": [],
      "authorship_tag": "ABX9TyMdZGJl+jvVtWuCtlr3UoFJ",
      "include_colab_link": true
    },
    "kernelspec": {
      "name": "python3",
      "display_name": "Python 3"
    },
    "language_info": {
      "name": "python"
    }
  },
  "cells": [
    {
      "cell_type": "markdown",
      "metadata": {
        "id": "view-in-github",
        "colab_type": "text"
      },
      "source": [
        "<a href=\"https://colab.research.google.com/github/tulasikodi/tulasi/blob/main/Quiz.ipynb\" target=\"_parent\"><img src=\"https://colab.research.google.com/assets/colab-badge.svg\" alt=\"Open In Colab\"/></a>"
      ]
    },
    {
      "cell_type": "code",
      "execution_count": null,
      "metadata": {
        "colab": {
          "base_uri": "https://localhost:8080/"
        },
        "id": "0KoQa8pk7cf7",
        "outputId": "9019c5c3-ce27-4b6f-f88f-35998f5f9a91"
      },
      "outputs": [
        {
          "output_type": "stream",
          "name": "stdout",
          "text": [
            "\n",
            "Question 1: What is the capital of France?\n",
            "1. Berlin\n",
            "2. Paris\n",
            "3. Madrid\n",
            "4. Rome\n"
          ]
        }
      ],
      "source": [
        "# Quiz Questions and Options\n",
        "questions = [\n",
        "    {\n",
        "        \"question\": \"What is the capital of France?\",\n",
        "        \"options\": [\"Berlin\", \"Paris\", \"Madrid\", \"Rome\"],\n",
        "        \"correct_answer\": \"Paris\"\n",
        "    },\n",
        "    {\n",
        "        \"question\": \"Which planet is known as the Red Planet?\",\n",
        "        \"options\": [\"Earth\", \"Mars\", \"Venus\", \"Jupiter\"],\n",
        "        \"correct_answer\": \"Mars\"\n",
        "    },\n",
        "    {\n",
        "        \"question\": \"What is the largest mammal in the world?\",\n",
        "        \"options\": [\"Elephant\", \"Blue Whale\", \"Giraffe\", \"Hippopotamus\"],\n",
        "        \"correct_answer\": \"Blue Whale\"\n",
        "    }\n",
        "]\n",
        "\n",
        "# Scoring System\n",
        "score = 0\n",
        "\n",
        "# Quiz Function\n",
        "def run_quiz():\n",
        "    global score  # Use the global variable for score\n",
        "\n",
        "    # Iterate through each question\n",
        "    for i, question_data in enumerate(questions, start=1):\n",
        "        print(f\"\\nQuestion {i}: {question_data['question']}\")\n",
        "\n",
        "        # Display options\n",
        "        for j, option in enumerate(question_data['options'], start=1):\n",
        "            print(f\"{j}. {option}\")\n",
        "\n",
        "        # User input with validation\n",
        "        while True:\n",
        "            try:\n",
        "                user_answer_index = int(input(\"Your answer (enter the corresponding option number): \"))\n",
        "                if 1 <= user_answer_index <= len(question_data['options']):\n",
        "                    break\n",
        "                else:\n",
        "                    print(\"Invalid input. Please enter a valid option number.\")\n",
        "            except ValueError:\n",
        "                print(\"Invalid input. Please enter a number.\")\n",
        "\n",
        "        # Check if the user's answer is correct\n",
        "        user_answer = question_data['options'][user_answer_index - 1]\n",
        "        correct_answer = question_data['correct_answer']\n",
        "\n",
        "        if user_answer == correct_answer:\n",
        "            print(\"Correct!\")\n",
        "            score += 1\n",
        "        else:\n",
        "            print(f\"Incorrect. The correct answer is: {correct_answer}\")\n",
        "\n",
        "# Run the quiz\n",
        "run_quiz()\n",
        "\n",
        "# Display final score\n",
        "print(f\"\\nYour final score is: {score}/{len(questions)}\")\n"
      ]
    }
  ]
}